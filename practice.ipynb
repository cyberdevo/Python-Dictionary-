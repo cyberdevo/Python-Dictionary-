{
 "metadata": {
  "language_info": {
   "codemirror_mode": {
    "name": "ipython",
    "version": 3
   },
   "file_extension": ".py",
   "mimetype": "text/x-python",
   "name": "python",
   "nbconvert_exporter": "python",
   "pygments_lexer": "ipython3",
   "version": "3.9.0"
  },
  "orig_nbformat": 2,
  "kernelspec": {
   "name": "python390jvsc74a57bd0ee5cc6fef2d70a7e71ee3826687cbd150f18158e0b1eef11d4f4f92bb920e304",
   "display_name": "Python 3.9.0 64-bit"
  }
 },
 "nbformat": 4,
 "nbformat_minor": 2,
 "cells": [
  {
   "cell_type": "code",
   "execution_count": 1,
   "metadata": {},
   "outputs": [],
   "source": [
    "import json\n",
    "import  speech_recognition  as  sr\n",
    "from difflib import get_close_matches"
   ]
  },
  {
   "cell_type": "code",
   "execution_count": 2,
   "metadata": {},
   "outputs": [],
   "source": [
    "word = \"\"\n",
    "data = json.load(open(\"data.json\"))"
   ]
  },
  {
   "cell_type": "code",
   "execution_count": 3,
   "metadata": {},
   "outputs": [],
   "source": [
    "\n",
    "def translate(w):\n",
    "    w = w.lower()\n",
    "    if w in data:\n",
    "        return data[w]\n",
    "    elif w.title() in data:\n",
    "        return data[w.title()]\n",
    "    elif w.upper() in data: \n",
    "        return data[w.upper()]\n",
    "    elif len(get_close_matches(w,data.keys()))>0:\n",
    "        li = get_close_matches(w,data.keys(), n = 4, cutoff=0.6)\n",
    "        print(\"Suggestions \")\n",
    "        for i in range(len(li)):\n",
    "            print(\"Press \" ,i, \"For this Keyword \" , li[i] )\n",
    "      \n",
    "        take_in = int(input(\"Press Keyword please...: \"))\n",
    "        if take_in == 0:\n",
    "            return(data[li[0]])\n",
    "        elif take_in == 1:\n",
    "            return(data[li[1]])\n",
    "        elif take_in == 2:\n",
    "            return(data[li[2]])\n",
    "        elif take_in == 3:\n",
    "            return(data[li[3]])\n",
    "        else:\n",
    "            return(\"Invalid Input . Please Check Again\")\n",
    "    else:\n",
    "        return\"The word does'nt exist. Please Double check it.\"\n"
   ]
  },
  {
   "cell_type": "code",
   "execution_count": 4,
   "metadata": {},
   "outputs": [],
   "source": [
    "check = int(input('Press 1 to Translate a world by Keyboard... Press 2 to translate a word with youe voice: '))\n"
   ]
  },
  {
   "cell_type": "code",
   "execution_count": 7,
   "metadata": {},
   "outputs": [
    {
     "output_type": "stream",
     "name": "stdout",
     "text": [
      "Speak Now.......\n"
     ]
    }
   ],
   "source": [
    "if check == 1:\n",
    "    print(\"1st Condition: 1\")\n",
    "    word = input(\"Enter word for finding its meaning....: \")\n",
    "    \n",
    "elif check == 2 :\n",
    "    r2 = sr.Recognizer()\n",
    "    r3 = sr.Recognizer()\n",
    "    \n",
    "    with  sr.Microphone()  as  source:\n",
    "        \n",
    "        print('Speak Now.......')\n",
    "        \n",
    "        with  sr.Microphone()  as source:\n",
    "            \n",
    "            audio = r2.listen(source)\n",
    "            \n",
    "            try:\n",
    "                word = r2.recognize_google(audio)\n",
    "                print('Your query')\n",
    "                print(word)\n",
    "            except  sr.UnknownValueError:\n",
    "                print('error')\n",
    "            except  sr.RequestError  as e:\n",
    "                print('failed'.format(e))\n",
    "            \n"
   ]
  },
  {
   "cell_type": "code",
   "execution_count": 4,
   "metadata": {},
   "outputs": [
    {
     "output_type": "stream",
     "name": "stdout",
     "text": [
      "The word does'nt exist. Please Double check it.\nStay Connected for more Information\n"
     ]
    }
   ],
   "source": [
    "\n",
    "\n",
    "output = translate(word)\n",
    "if type(output) == list:\n",
    "    for item in output:\n",
    "        print(item)\n",
    "else:\n",
    "    print(output)\n",
    "\n",
    "print(\"Stay Connected for more Information\")"
   ]
  },
  {
   "cell_type": "code",
   "execution_count": 5,
   "metadata": {},
   "outputs": [
    {
     "output_type": "stream",
     "name": "stdout",
     "text": [
      "Speak Now.......\n"
     ]
    }
   ],
   "source": [
    "import json\n",
    "import  speech_recognition  as  sr\n",
    "from difflib import get_close_matches\n",
    "word = \"\"\n",
    "data = json.load(open(\"data.json\"))\n",
    "\n",
    "def translate(w):\n",
    "    w = w.lower()\n",
    "    if w in data:\n",
    "        return data[w]\n",
    "    elif w.title() in data:\n",
    "        return data[w.title()]\n",
    "    elif w.upper() in data: \n",
    "        return data[w.upper()]\n",
    "    elif len(get_close_matches(w,data.keys()))>0:\n",
    "        li = get_close_matches(w,data.keys(), n = 4, cutoff=0.6)\n",
    "        print(\"Suggestions \")\n",
    "        for i in range(len(li)):\n",
    "            print(\"Press \" ,i, \"For this Keyword \" , li[i] )\n",
    "      \n",
    "        take_in = int(input(\"Press Keyword please...: \"))\n",
    "        if take_in == 0:\n",
    "            return(data[li[0]])\n",
    "        elif take_in == 1:\n",
    "            return(data[li[1]])\n",
    "        elif take_in == 2:\n",
    "            return(data[li[2]])\n",
    "        elif take_in == 3:\n",
    "            return(data[li[3]])\n",
    "        else:\n",
    "            return(\"Invalid Input . Please Check Again\")\n",
    "    else:\n",
    "        return\"The word does'nt exist. Please Double check it.\"\n",
    "\n",
    "\n",
    "check = int(input('Press 1 to Translate a world by Keyboard... Press 2 to translate a word with youe voice: '))\n",
    "\n",
    "# if check > 0:\n",
    "#     print(\"Positive number\")\n",
    "# elif check == 0:\n",
    "    # print(\"Zero\")\n",
    "if check == 1:\n",
    "    print(\"1st Condition: 1\")\n",
    "    word = input(\"Enter word for finding its meaning....: \")\n",
    "\n",
    "elif check == 2 :\n",
    "    r2 = sr.Recognizer()\n",
    "    r3 = sr.Recognizer()\n",
    "    \n",
    "    with  sr.Microphone()  as  source:\n",
    "        \n",
    "        print('Speak Now.......')\n",
    "        \n",
    "        with  sr.Microphone()  as source:\n",
    "            \n",
    "            audio = r2.listen(source)\n",
    "            \n",
    "            try:\n",
    "                word = r2.recognize_google(audio)\n",
    "                print('Your query')\n",
    "                print(word)\n",
    "            except  sr.UnknownValueError:\n",
    "                print('error')\n",
    "            except  sr.RequestError  as e:\n",
    "                print('failed'.format(e))\n",
    "            \n",
    "\n",
    "\n",
    "output = translate(word)\n",
    "if type(output) == list:\n",
    "    for item in output:\n",
    "        print(item)\n",
    "else:\n",
    "    print(output)\n",
    "\n",
    "print(\"Stay Connected for more Information\")\n"
   ]
  },
  {
   "cell_type": "code",
   "execution_count": 1,
   "metadata": {},
   "outputs": [],
   "source": [
    "# import app.py \n",
    "def callFile():\n",
    "    execfile(app.py)\n"
   ]
  },
  {
   "cell_type": "code",
   "execution_count": 2,
   "metadata": {},
   "outputs": [
    {
     "output_type": "error",
     "ename": "NameError",
     "evalue": "name 'execfile' is not defined",
     "traceback": [
      "\u001b[1;31m---------------------------------------------------------------------------\u001b[0m",
      "\u001b[1;31mNameError\u001b[0m                                 Traceback (most recent call last)",
      "\u001b[1;32m<ipython-input-2-2037180fdc5b>\u001b[0m in \u001b[0;36m<module>\u001b[1;34m\u001b[0m\n\u001b[1;32m----> 1\u001b[1;33m \u001b[0mcallFile\u001b[0m\u001b[1;33m(\u001b[0m\u001b[1;33m)\u001b[0m\u001b[1;33m\u001b[0m\u001b[1;33m\u001b[0m\u001b[0m\n\u001b[0m",
      "\u001b[1;32m<ipython-input-1-7bc35b2340ce>\u001b[0m in \u001b[0;36mcallFile\u001b[1;34m()\u001b[0m\n\u001b[0;32m      1\u001b[0m \u001b[1;31m# import app.py\u001b[0m\u001b[1;33m\u001b[0m\u001b[1;33m\u001b[0m\u001b[1;33m\u001b[0m\u001b[0m\n\u001b[0;32m      2\u001b[0m \u001b[1;32mdef\u001b[0m \u001b[0mcallFile\u001b[0m\u001b[1;33m(\u001b[0m\u001b[1;33m)\u001b[0m\u001b[1;33m:\u001b[0m\u001b[1;33m\u001b[0m\u001b[1;33m\u001b[0m\u001b[0m\n\u001b[1;32m----> 3\u001b[1;33m     \u001b[0mexecfile\u001b[0m\u001b[1;33m(\u001b[0m\u001b[0mapp\u001b[0m\u001b[1;33m.\u001b[0m\u001b[0mpy\u001b[0m\u001b[1;33m)\u001b[0m\u001b[1;33m\u001b[0m\u001b[1;33m\u001b[0m\u001b[0m\n\u001b[0m",
      "\u001b[1;31mNameError\u001b[0m: name 'execfile' is not defined"
     ]
    }
   ],
   "source": [
    "callFile()"
   ]
  },
  {
   "cell_type": "code",
   "execution_count": 5,
   "metadata": {},
   "outputs": [
    {
     "output_type": "execute_result",
     "data": {
      "text/plain": [
       "1"
      ]
     },
     "metadata": {},
     "execution_count": 5
    }
   ],
   "source": [
    "os.system('python app.py')"
   ]
  },
  {
   "cell_type": "code",
   "execution_count": null,
   "metadata": {},
   "outputs": [],
   "source": []
  }
 ]
}